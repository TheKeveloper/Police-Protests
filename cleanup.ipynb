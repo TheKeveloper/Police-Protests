{
 "cells": [
  {
   "cell_type": "code",
   "execution_count": 1,
   "metadata": {},
   "outputs": [],
   "source": [
    "import csv\n",
    "import datetime\n",
    "import matplotlib.pyplot as plt\n",
    "import numpy as np\n",
    "from scipy.stats import linregress"
   ]
  },
  {
   "cell_type": "code",
   "execution_count": 2,
   "metadata": {},
   "outputs": [],
   "source": [
    "def save_csv(objs : list, filename, fieldnames = None):\n",
    "    if fieldnames is None:\n",
    "        fieldnames = objs[0].keys()\n",
    "    with open(filename, \"w+\") as out:\n",
    "        writer = csv.DictWriter(out, fieldnames = fieldnames)\n",
    "        writer.writeheader()\n",
    "        for o in objs:\n",
    "            writer.writerow(o)"
   ]
  },
  {
   "cell_type": "code",
   "execution_count": 3,
   "metadata": {},
   "outputs": [],
   "source": [
    "def get_csv(filename : str):\n",
    "    with open(filename, \"r\") as src:\n",
    "        reader = csv.DictReader(src)\n",
    "        return list(reader)"
   ]
  },
  {
   "cell_type": "code",
   "execution_count": 4,
   "metadata": {},
   "outputs": [],
   "source": [
    "def city_state_str(event):\n",
    "    return \"{}, {}\".format(event[\"city\"].replace(\" \", \"\").lower(), event[\"state\"])"
   ]
  },
  {
   "cell_type": "code",
   "execution_count": 5,
   "metadata": {},
   "outputs": [],
   "source": [
    "police_killings = get_csv(\"data/police-killings.csv\")"
   ]
  },
  {
   "cell_type": "code",
   "execution_count": null,
   "metadata": {},
   "outputs": [],
   "source": []
  },
  {
   "cell_type": "code",
   "execution_count": 6,
   "metadata": {},
   "outputs": [],
   "source": [
    "for killing in police_killings:\n",
    "    date_str = killing[\"incident_date\"]\n",
    "    parts = date_str.split(\"/\")\n",
    "    month = parts[0]\n",
    "    day = parts[1]\n",
    "    year = parts[2]\n",
    "    killing[\"year\"] = \"20\" + year\n",
    "    killing[\"month\"] = month\n",
    "    killing[\"day\"] = day"
   ]
  },
  {
   "cell_type": "code",
   "execution_count": 7,
   "metadata": {},
   "outputs": [],
   "source": [
    "save_csv(police_killings, \"data/police-killings.csv\")"
   ]
  },
  {
   "cell_type": "code",
   "execution_count": 8,
   "metadata": {},
   "outputs": [],
   "source": [
    "blm_protests = get_csv(\"data/blm-protests.csv\")"
   ]
  },
  {
   "cell_type": "code",
   "execution_count": 9,
   "metadata": {},
   "outputs": [],
   "source": [
    "for protest in blm_protests:\n",
    "    date_str = protest[\"date\"]\n",
    "    parts = date_str.split(\"/\")\n",
    "    month = parts[0]\n",
    "    day = parts[1]\n",
    "    year = parts[2]\n",
    "    protest[\"year\"] = \"20\" + year\n",
    "    protest[\"month\"] = month\n",
    "    protest[\"day\"] = day"
   ]
  },
  {
   "cell_type": "code",
   "execution_count": 10,
   "metadata": {},
   "outputs": [],
   "source": [
    "save_csv(blm_protests, \"data/blm-protests.csv\")"
   ]
  },
  {
   "cell_type": "code",
   "execution_count": 11,
   "metadata": {},
   "outputs": [],
   "source": [
    "blm_cities = set([city_state_str(protest) for protest in blm_protests])"
   ]
  },
  {
   "cell_type": "code",
   "execution_count": 12,
   "metadata": {},
   "outputs": [],
   "source": [
    "killings_cities = set([city_state_str(killing) for killing in police_killings])"
   ]
  },
  {
   "cell_type": "code",
   "execution_count": 13,
   "metadata": {},
   "outputs": [],
   "source": [
    "city_killing_stats = {\n",
    "    city : {\n",
    "        \"city\" : city,\n",
    "        \"2013\" : 0,\n",
    "        \"2014\" : 0,\n",
    "        \"2015\" : 0,\n",
    "        \"2016\" : 0,\n",
    "        \"2017\" : 0,\n",
    "        \"2018\" : 0,\n",
    "        \"2019\" : 0,\n",
    "        \"total\" : 0\n",
    "    } for city in killings_cities\n",
    "}\n",
    "for killing in police_killings:\n",
    "    city = city_state_str(killing)\n",
    "    city_killing_stats[city][killing[\"year\"]] += 1\n",
    "    city_killing_stats[city][\"total\"] += 1"
   ]
  },
  {
   "cell_type": "code",
   "execution_count": 14,
   "metadata": {},
   "outputs": [],
   "source": [
    "black_city_killing_stats = {\n",
    "    city : {\n",
    "        \"city\" : city,\n",
    "        \"2013\" : 0,\n",
    "        \"2014\" : 0,\n",
    "        \"2015\" : 0,\n",
    "        \"2016\" : 0,\n",
    "        \"2017\" : 0,\n",
    "        \"2018\" : 0,\n",
    "        \"2019\" : 0,\n",
    "        \"total\" : 0\n",
    "    } for city in killings_cities\n",
    "}\n",
    "for killing in police_killings:\n",
    "    if killing[\"victim_race\"] == \"Black\":\n",
    "        city = city_state_str(killing)\n",
    "        black_city_killing_stats[city][killing[\"year\"]] += 1\n",
    "        black_city_killing_stats[city][\"total\"] += 1"
   ]
  },
  {
   "cell_type": "code",
   "execution_count": 15,
   "metadata": {},
   "outputs": [],
   "source": [
    "def new_city_dict(city):\n",
    "    return {\n",
    "        \"city\" : city,\n",
    "        \"2014\" : 0,\n",
    "        \"2015\" : 0,\n",
    "        \"total\" : 0\n",
    "    }"
   ]
  },
  {
   "cell_type": "code",
   "execution_count": 16,
   "metadata": {},
   "outputs": [],
   "source": [
    "city_protest_counts = {\n",
    "    city : new_city_dict(city)\n",
    "    for city in blm_cities\n",
    "}\n",
    "\n",
    "for protest in blm_protests:\n",
    "    city = city_state_str(protest)\n",
    "    year = protest[\"year\"]\n",
    "    city_protest_counts[city][year] += 1\n",
    "    city_protest_counts[city][\"total\"] += 1"
   ]
  },
  {
   "cell_type": "code",
   "execution_count": 17,
   "metadata": {},
   "outputs": [],
   "source": [
    "def is_relevant(city_stat):\n",
    "    years_with_killing = 0\n",
    "    return city_stat[\"total\"] >= 10"
   ]
  },
  {
   "cell_type": "code",
   "execution_count": 18,
   "metadata": {},
   "outputs": [],
   "source": [
    "relevant_killing_city_counts = [city for city in city_killing_stats.values() if is_relevant(city)]\n",
    "relevant_killing_cities = [city[\"city\"] for city in relevant_killing_city_counts]\n",
    "relevant_protest_city_counts = [new_city_dict(city) if city not in city_protest_counts else city_protest_counts[city] for city in relevant_killing_cities]\n",
    "\n",
    "# Sanity checks\n",
    "assert(len(relevant_protest_city_counts) == len(relevant_killing_city_counts))\n",
    "for killing_count, protest_count in zip(relevant_killing_city_counts, relevant_protest_city_counts):\n",
    "    assert(killing_count[\"city\"] == protest_count[\"city\"])"
   ]
  },
  {
   "cell_type": "code",
   "execution_count": 19,
   "metadata": {},
   "outputs": [],
   "source": [
    "black_relevant_killing_city_counts = [city for city in black_city_killing_stats.values() if is_relevant(city)]\n",
    "black_relevant_killing_cities = [city[\"city\"] for city in black_relevant_killing_city_counts]\n",
    "black_relevant_protest_city_counts = [new_city_dict(city) if city not in city_protest_counts \\\n",
    "                                      else city_protest_counts[city] for city in black_relevant_killing_cities]\n",
    "\n",
    "# Sanity checks\n",
    "assert(len(black_relevant_protest_city_counts) == len(black_relevant_killing_city_counts))\n",
    "for killing_count, protest_count in zip(black_relevant_killing_city_counts, black_relevant_protest_city_counts):\n",
    "    assert(killing_count[\"city\"] == protest_count[\"city\"])"
   ]
  },
  {
   "cell_type": "code",
   "execution_count": 20,
   "metadata": {},
   "outputs": [],
   "source": [
    "def get_ys(city):\n",
    "    before = (city[\"2013\"] + city[\"2014\"] + city[\"2015\"])\n",
    "    after = (city[\"2016\"] + city[\"2017\"] + city[\"2018\"])\n",
    "    if (before + after == 0):\n",
    "        return 0\n",
    "    return (after - before)"
   ]
  },
  {
   "cell_type": "code",
   "execution_count": 21,
   "metadata": {},
   "outputs": [],
   "source": [
    "def get_normalized_ys(city):\n",
    "    before = (city[\"2013\"] + city[\"2014\"] + city[\"2015\"])\n",
    "    after = (city[\"2016\"] + city[\"2017\"] + city[\"2018\"])\n",
    "    if (before + after == 0):\n",
    "        return 0\n",
    "    return (after - before) / (after + before)"
   ]
  },
  {
   "cell_type": "code",
   "execution_count": 22,
   "metadata": {},
   "outputs": [],
   "source": [
    "xs = [city[\"total\"] for city in relevant_protest_city_counts]\n",
    "ys = [get_ys(city) for city in relevant_killing_city_counts]"
   ]
  },
  {
   "cell_type": "code",
   "execution_count": 23,
   "metadata": {},
   "outputs": [
    {
     "data": {
      "text/plain": [
       "LinregressResult(slope=-0.2947869552172904, intercept=0.4407001296326698, rvalue=-0.3856872070402013, pvalue=0.00010415119107971853, stderr=0.072733834536164)"
      ]
     },
     "execution_count": 23,
     "metadata": {},
     "output_type": "execute_result"
    }
   ],
   "source": [
    "reg = linregress(xs, ys)\n",
    "reg"
   ]
  },
  {
   "cell_type": "code",
   "execution_count": 24,
   "metadata": {},
   "outputs": [
    {
     "data": {
      "image/png": "[encoded data removed]",
      "text/plain": [
       "<Figure size 432x288 with 1 Axes>"
      ]
     },
     "metadata": {
      "needs_background": "light"
     },
     "output_type": "display_data"
    }
   ],
   "source": [
    "max_x = max(xs)\n",
    "plt.scatter(xs, ys)\n",
    "plt.plot([0, max_x + 1], [reg.intercept, reg.slope * (max_x + 1) + reg.intercept], \"red\")\n",
    "plt.title(\"BLM Protests and Police Killings\\nN = {}\".format(len(xs)))\n",
    "plt.ylabel(\"Normalized Change in killings from 2013-2015 to 2016-2018\")\n",
    "plt.xlabel(\"Number of BLM protests in 2014-2015\")\n",
    "plt.show()"
   ]
  },
  {
   "cell_type": "code",
   "execution_count": 25,
   "metadata": {},
   "outputs": [],
   "source": [
    "unarmed_killings = [killing for killing in police_killings if killing[\"weapon\"] == \"unarmed\"]"
   ]
  },
  {
   "cell_type": "code",
   "execution_count": 26,
   "metadata": {},
   "outputs": [],
   "source": [
    "save_csv([\n",
    "    {\n",
    "        \"city\" : city,\n",
    "        \"protests\" : city_protest_counts[city][\"total\"] if city in city_protest_counts else 0,\n",
    "        \"change\" : get_ys(city_killing_stats[city])\n",
    "    } for city in relevant_killing_cities\n",
    "], \"relevant_change.csv\")"
   ]
  },
  {
   "cell_type": "code",
   "execution_count": 27,
   "metadata": {},
   "outputs": [],
   "source": [
    "save_csv([\n",
    "    {\n",
    "        \"city\" : city,\n",
    "        \"protests\" : city_protest_counts[city][\"total\"] if city in city_protest_counts else 0,\n",
    "        \"change\" : get_normalized_ys(city_killing_stats[city])\n",
    "    } for city in relevant_killing_cities\n",
    "], \"relevant_change_normalized.csv\")"
   ]
  },
  {
   "cell_type": "code",
   "execution_count": 28,
   "metadata": {},
   "outputs": [],
   "source": [
    "save_csv([\n",
    "    {\n",
    "        \"city\" : city,\n",
    "        \"protests\" : city_protest_counts[city][\"total\"] if city in city_protest_counts else 0,\n",
    "        \"change\" : get_ys(black_city_killing_stats[city])\n",
    "    } for city in black_relevant_killing_cities\n",
    "], \"black_relevant_change.csv\")"
   ]
  },
  {
   "cell_type": "code",
   "execution_count": 29,
   "metadata": {},
   "outputs": [],
   "source": [
    "save_csv([\n",
    "    {\n",
    "        \"city\" : city,\n",
    "        \"protests\" : city_protest_counts[city][\"total\"] if city in city_protest_counts else 0,\n",
    "        \"change\" : get_normalized_ys(black_city_killing_stats[city])\n",
    "    } for city in black_relevant_killing_cities\n",
    "], \"black_relevant_change_normalized.csv\") "
   ]
  }
 ],
 "metadata": {
  "kernelspec": {
   "display_name": "Python 3",
   "language": "python",
   "name": "python3"
  },
  "language_info": {
   "codemirror_mode": {
    "name": "ipython",
    "version": 3
   },
   "file_extension": ".py",
   "mimetype": "text/x-python",
   "name": "python",
   "nbconvert_exporter": "python",
   "pygments_lexer": "ipython3",
   "version": "3.7.7"
  }
 },
 "nbformat": 4,
 "nbformat_minor": 4
}
